{
 "cells": [
  {
   "cell_type": "code",
   "execution_count": 1,
   "id": "375ab8de",
   "metadata": {},
   "outputs": [],
   "source": [
    "import jieba\n",
    "import pandas as pd\n",
    "import re"
   ]
  },
  {
   "cell_type": "code",
   "execution_count": 2,
   "id": "043ec192",
   "metadata": {},
   "outputs": [],
   "source": [
    "df = pd.read_csv('./icook_sort.csv')"
   ]
  },
  {
   "cell_type": "code",
   "execution_count": 3,
   "id": "f9986e4b",
   "metadata": {},
   "outputs": [
    {
     "data": {
      "text/html": [
       "<div>\n",
       "<style scoped>\n",
       "    .dataframe tbody tr th:only-of-type {\n",
       "        vertical-align: middle;\n",
       "    }\n",
       "\n",
       "    .dataframe tbody tr th {\n",
       "        vertical-align: top;\n",
       "    }\n",
       "\n",
       "    .dataframe thead th {\n",
       "        text-align: right;\n",
       "    }\n",
       "</style>\n",
       "<table border=\"1\" class=\"dataframe\">\n",
       "  <thead>\n",
       "    <tr style=\"text-align: right;\">\n",
       "      <th></th>\n",
       "      <th>_id</th>\n",
       "      <th>RecipeID</th>\n",
       "      <th>CategoryName</th>\n",
       "      <th>SubCategoryID</th>\n",
       "      <th>SubCategoryName</th>\n",
       "      <th>RecipeName</th>\n",
       "      <th>Description</th>\n",
       "      <th>AuthorID</th>\n",
       "      <th>Author</th>\n",
       "      <th>Servings</th>\n",
       "      <th>CookingTime</th>\n",
       "      <th>Ingredient</th>\n",
       "      <th>CookingSteps</th>\n",
       "      <th>LikeStat</th>\n",
       "      <th>Datetime</th>\n",
       "      <th>Preview</th>\n",
       "      <th>URL</th>\n",
       "      <th>Ingredient_Pro</th>\n",
       "    </tr>\n",
       "  </thead>\n",
       "  <tbody>\n",
       "    <tr>\n",
       "      <th>0</th>\n",
       "      <td>60646cc365cd68e35c01e814</td>\n",
       "      <td>170303</td>\n",
       "      <td>家常菜色</td>\n",
       "      <td>['104', '602']</td>\n",
       "      <td>['烤肉', '中秋料理']</td>\n",
       "      <td>綜合雞肉串燒</td>\n",
       "      <td>用平底鍋或烤箱就能完成的雞肉串燒，其中照燒烤肉醬只要幾種材料組合，不必擔心市售烤肉醬有過多添...</td>\n",
       "      <td>100002279834418</td>\n",
       "      <td>胖仙女</td>\n",
       "      <td>4人份</td>\n",
       "      <td>45分鐘</td>\n",
       "      <td>{'去骨雞腿': '4片', '起士明太子醬': '適量', '蔥白': '適量', '檸檬...</td>\n",
       "      <td>['1. 雞腿肉切小塊的同時，切去皮及多餘的脂肪，取其中2/3的雞肉，加入所有的醃料拌勻，醃...</td>\n",
       "      <td>662</td>\n",
       "      <td>2016-09-11</td>\n",
       "      <td>2.4 萬 瀏覽</td>\n",
       "      <td>https://icook.tw/recipes/170303</td>\n",
       "      <td>{'去骨雞腿': ['4', '片'], '起士明太子醬': ['1', '適量'], '蔥...</td>\n",
       "    </tr>\n",
       "    <tr>\n",
       "      <th>1</th>\n",
       "      <td>60646cc365cd68e35c01e815</td>\n",
       "      <td>169048</td>\n",
       "      <td>家常菜色</td>\n",
       "      <td>['104', '77']</td>\n",
       "      <td>['烤肉', '宵夜']</td>\n",
       "      <td>燒烤味增秋葵透抽捲</td>\n",
       "      <td>秋葵正當季，適逢中秋節（烤肉節）腳步漸漸接近，來道『烤味增秋葵透抽』吧！\\n簡單備料，有彈性...</td>\n",
       "      <td>charminglydia</td>\n",
       "      <td>懶廚房</td>\n",
       "      <td>2人份</td>\n",
       "      <td>20分鐘</td>\n",
       "      <td>{'透抽': '1尾', '黃秋葵': '6個', '味增燒烤醬': '適量', '白芝麻'...</td>\n",
       "      <td>['1. 食材大集合。', '2. 黃秋葵先在鹽上滾一滾，如此讓表面絨毛軟化，較好入口。',...</td>\n",
       "      <td>675</td>\n",
       "      <td>2016-09-01</td>\n",
       "      <td>1.7 萬 瀏覽</td>\n",
       "      <td>https://icook.tw/recipes/169048</td>\n",
       "      <td>{'透抽': ['1', '尾'], '黃秋葵': ['6', '個'], '味增燒烤醬':...</td>\n",
       "    </tr>\n",
       "    <tr>\n",
       "      <th>2</th>\n",
       "      <td>60646cc365cd68e35c01e816</td>\n",
       "      <td>155271</td>\n",
       "      <td>家常菜色</td>\n",
       "      <td>['104', '77', '602']</td>\n",
       "      <td>['烤肉', '宵夜', '中秋料理']</td>\n",
       "      <td>沙嗲烤雞肉串</td>\n",
       "      <td>這個充滿東南亞風味的沙嗲烤雞串，用沙嗲醬醃雞肉，然後放入烤箱烤，這可令雞肉更嫰滑多汁。再加上...</td>\n",
       "      <td>MrsPsKitchen</td>\n",
       "      <td>Mrs P's Kitchen</td>\n",
       "      <td>4人份</td>\n",
       "      <td>45分鐘</td>\n",
       "      <td>{'雞肉': '600克', '沙嗲醬': '1大匙', '醬油': '1小匙', '糖':...</td>\n",
       "      <td>['1. 將雞肉切小塊，然後用醃料醃雞肉最少一個小時', '2. 將竹籤浸在熱水5分鐘，這可...</td>\n",
       "      <td>1,669</td>\n",
       "      <td>2016-06-02</td>\n",
       "      <td>3.3 萬 瀏覽</td>\n",
       "      <td>https://icook.tw/recipes/155271</td>\n",
       "      <td>{'雞肉': ['600', '克'], '沙嗲醬': ['1', '大匙'], '醬油':...</td>\n",
       "    </tr>\n",
       "    <tr>\n",
       "      <th>3</th>\n",
       "      <td>60646cc365cd68e35c01e817</td>\n",
       "      <td>90086</td>\n",
       "      <td>家常菜色</td>\n",
       "      <td>['104', '602']</td>\n",
       "      <td>['烤肉', '中秋料理']</td>\n",
       "      <td>甜柿烤肉串</td>\n",
       "      <td>霜降吃柿子！甜柿營養豐富，卻不適合空腹吃。與肉類搭配，解油膩又清爽。簡單做法，最適合週末小派對！</td>\n",
       "      <td>jj5colorkitchen</td>\n",
       "      <td>jj5色廚</td>\n",
       "      <td>3人份</td>\n",
       "      <td>30分鐘</td>\n",
       "      <td>{'火鍋白肉片': '6-7 片', '甜柿': '1 顆', '百里香': '適量', '...</td>\n",
       "      <td>['1. 這種豬肉片就是平常酸菜白肉鍋用的白肉片，等於沒薰過的培根肉，形狀規則，油脂豐富，比...</td>\n",
       "      <td>671</td>\n",
       "      <td>2014-10-25</td>\n",
       "      <td>1.8 萬 瀏覽</td>\n",
       "      <td>https://icook.tw/recipes/90086</td>\n",
       "      <td>{'火鍋白肉片': ['6-7', '片'], '甜柿': ['1', '顆'], '百里香...</td>\n",
       "    </tr>\n",
       "    <tr>\n",
       "      <th>4</th>\n",
       "      <td>60646cc365cd68e35c01e818</td>\n",
       "      <td>337797</td>\n",
       "      <td>家常菜色</td>\n",
       "      <td>['104', '61']</td>\n",
       "      <td>['烤肉', '韓式']</td>\n",
       "      <td>韓式烤肉飯</td>\n",
       "      <td>百吃不膩的韓式烤肉飯，保證讓人胃口大開！無論配麵、配飯都很搭。 作法超級簡單！適合料理初學者...</td>\n",
       "      <td>1f2cb7b4bee5e7d2</td>\n",
       "      <td>幸福餐桌</td>\n",
       "      <td>2人份</td>\n",
       "      <td>45分鐘</td>\n",
       "      <td>{'沙朗牛肉片': '400克', '蒜': '3瓣', '洋蔥': '1顆', '蘋果':...</td>\n",
       "      <td>['1. 以刀背將牛肉片敲打鬆軟', '2. 牛肉片切成小塊狀', '3. 將蒜、奇異果、蘋...</td>\n",
       "      <td>53</td>\n",
       "      <td>2020-05-23</td>\n",
       "      <td>8,026  瀏覽</td>\n",
       "      <td>https://icook.tw/recipes/337797</td>\n",
       "      <td>{'沙朗牛肉片': ['400', '克'], '蒜': ['3', '瓣'], '洋蔥':...</td>\n",
       "    </tr>\n",
       "  </tbody>\n",
       "</table>\n",
       "</div>"
      ],
      "text/plain": [
       "                        _id  RecipeID CategoryName         SubCategoryID  \\\n",
       "0  60646cc365cd68e35c01e814    170303         家常菜色        ['104', '602']   \n",
       "1  60646cc365cd68e35c01e815    169048         家常菜色         ['104', '77']   \n",
       "2  60646cc365cd68e35c01e816    155271         家常菜色  ['104', '77', '602']   \n",
       "3  60646cc365cd68e35c01e817     90086         家常菜色        ['104', '602']   \n",
       "4  60646cc365cd68e35c01e818    337797         家常菜色         ['104', '61']   \n",
       "\n",
       "        SubCategoryName RecipeName  \\\n",
       "0        ['烤肉', '中秋料理']     綜合雞肉串燒   \n",
       "1          ['烤肉', '宵夜']  燒烤味增秋葵透抽捲   \n",
       "2  ['烤肉', '宵夜', '中秋料理']     沙嗲烤雞肉串   \n",
       "3        ['烤肉', '中秋料理']      甜柿烤肉串   \n",
       "4          ['烤肉', '韓式']      韓式烤肉飯   \n",
       "\n",
       "                                         Description          AuthorID  \\\n",
       "0  用平底鍋或烤箱就能完成的雞肉串燒，其中照燒烤肉醬只要幾種材料組合，不必擔心市售烤肉醬有過多添...   100002279834418   \n",
       "1  秋葵正當季，適逢中秋節（烤肉節）腳步漸漸接近，來道『烤味增秋葵透抽』吧！\\n簡單備料，有彈性...     charminglydia   \n",
       "2  這個充滿東南亞風味的沙嗲烤雞串，用沙嗲醬醃雞肉，然後放入烤箱烤，這可令雞肉更嫰滑多汁。再加上...      MrsPsKitchen   \n",
       "3   霜降吃柿子！甜柿營養豐富，卻不適合空腹吃。與肉類搭配，解油膩又清爽。簡單做法，最適合週末小派對！   jj5colorkitchen   \n",
       "4  百吃不膩的韓式烤肉飯，保證讓人胃口大開！無論配麵、配飯都很搭。 作法超級簡單！適合料理初學者...  1f2cb7b4bee5e7d2   \n",
       "\n",
       "            Author Servings CookingTime  \\\n",
       "0              胖仙女      4人份        45分鐘   \n",
       "1              懶廚房      2人份        20分鐘   \n",
       "2  Mrs P's Kitchen      4人份        45分鐘   \n",
       "3            jj5色廚      3人份        30分鐘   \n",
       "4             幸福餐桌      2人份        45分鐘   \n",
       "\n",
       "                                          Ingredient  \\\n",
       "0  {'去骨雞腿': '4片', '起士明太子醬': '適量', '蔥白': '適量', '檸檬...   \n",
       "1  {'透抽': '1尾', '黃秋葵': '6個', '味增燒烤醬': '適量', '白芝麻'...   \n",
       "2  {'雞肉': '600克', '沙嗲醬': '1大匙', '醬油': '1小匙', '糖':...   \n",
       "3  {'火鍋白肉片': '6-7 片', '甜柿': '1 顆', '百里香': '適量', '...   \n",
       "4  {'沙朗牛肉片': '400克', '蒜': '3瓣', '洋蔥': '1顆', '蘋果':...   \n",
       "\n",
       "                                        CookingSteps LikeStat    Datetime  \\\n",
       "0  ['1. 雞腿肉切小塊的同時，切去皮及多餘的脂肪，取其中2/3的雞肉，加入所有的醃料拌勻，醃...      662  2016-09-11   \n",
       "1  ['1. 食材大集合。', '2. 黃秋葵先在鹽上滾一滾，如此讓表面絨毛軟化，較好入口。',...      675  2016-09-01   \n",
       "2  ['1. 將雞肉切小塊，然後用醃料醃雞肉最少一個小時', '2. 將竹籤浸在熱水5分鐘，這可...    1,669  2016-06-02   \n",
       "3  ['1. 這種豬肉片就是平常酸菜白肉鍋用的白肉片，等於沒薰過的培根肉，形狀規則，油脂豐富，比...      671  2014-10-25   \n",
       "4  ['1. 以刀背將牛肉片敲打鬆軟', '2. 牛肉片切成小塊狀', '3. 將蒜、奇異果、蘋...       53  2020-05-23   \n",
       "\n",
       "     Preview                              URL  \\\n",
       "0   2.4 萬 瀏覽  https://icook.tw/recipes/170303   \n",
       "1   1.7 萬 瀏覽  https://icook.tw/recipes/169048   \n",
       "2   3.3 萬 瀏覽  https://icook.tw/recipes/155271   \n",
       "3   1.8 萬 瀏覽   https://icook.tw/recipes/90086   \n",
       "4  8,026  瀏覽  https://icook.tw/recipes/337797   \n",
       "\n",
       "                                      Ingredient_Pro  \n",
       "0  {'去骨雞腿': ['4', '片'], '起士明太子醬': ['1', '適量'], '蔥...  \n",
       "1  {'透抽': ['1', '尾'], '黃秋葵': ['6', '個'], '味增燒烤醬':...  \n",
       "2  {'雞肉': ['600', '克'], '沙嗲醬': ['1', '大匙'], '醬油':...  \n",
       "3  {'火鍋白肉片': ['6-7', '片'], '甜柿': ['1', '顆'], '百里香...  \n",
       "4  {'沙朗牛肉片': ['400', '克'], '蒜': ['3', '瓣'], '洋蔥':...  "
      ]
     },
     "execution_count": 3,
     "metadata": {},
     "output_type": "execute_result"
    }
   ],
   "source": [
    "df.head()"
   ]
  },
  {
   "cell_type": "code",
   "execution_count": 4,
   "id": "a2abd2bc",
   "metadata": {},
   "outputs": [],
   "source": [
    "df_TFIDF = df[['RecipeID','RecipeName', 'Description']]"
   ]
  },
  {
   "cell_type": "code",
   "execution_count": 5,
   "id": "a955fe52",
   "metadata": {},
   "outputs": [],
   "source": [
    "# 將空值資料刪除\n",
    "df_TFIDF=df_TFIDF.dropna()"
   ]
  },
  {
   "cell_type": "code",
   "execution_count": 6,
   "id": "b3038f5d",
   "metadata": {},
   "outputs": [
    {
     "data": {
      "text/html": [
       "<div>\n",
       "<style scoped>\n",
       "    .dataframe tbody tr th:only-of-type {\n",
       "        vertical-align: middle;\n",
       "    }\n",
       "\n",
       "    .dataframe tbody tr th {\n",
       "        vertical-align: top;\n",
       "    }\n",
       "\n",
       "    .dataframe thead th {\n",
       "        text-align: right;\n",
       "    }\n",
       "</style>\n",
       "<table border=\"1\" class=\"dataframe\">\n",
       "  <thead>\n",
       "    <tr style=\"text-align: right;\">\n",
       "      <th></th>\n",
       "      <th>RecipeID</th>\n",
       "      <th>RecipeName</th>\n",
       "      <th>Description</th>\n",
       "    </tr>\n",
       "  </thead>\n",
       "  <tbody>\n",
       "    <tr>\n",
       "      <th>0</th>\n",
       "      <td>170303</td>\n",
       "      <td>綜合雞肉串燒</td>\n",
       "      <td>用平底鍋或烤箱就能完成的雞肉串燒，其中照燒烤肉醬只要幾種材料組合，不必擔心市售烤肉醬有過多添...</td>\n",
       "    </tr>\n",
       "    <tr>\n",
       "      <th>1</th>\n",
       "      <td>169048</td>\n",
       "      <td>燒烤味增秋葵透抽捲</td>\n",
       "      <td>秋葵正當季，適逢中秋節（烤肉節）腳步漸漸接近，來道『烤味增秋葵透抽』吧！\\n簡單備料，有彈性...</td>\n",
       "    </tr>\n",
       "    <tr>\n",
       "      <th>2</th>\n",
       "      <td>155271</td>\n",
       "      <td>沙嗲烤雞肉串</td>\n",
       "      <td>這個充滿東南亞風味的沙嗲烤雞串，用沙嗲醬醃雞肉，然後放入烤箱烤，這可令雞肉更嫰滑多汁。再加上...</td>\n",
       "    </tr>\n",
       "    <tr>\n",
       "      <th>3</th>\n",
       "      <td>90086</td>\n",
       "      <td>甜柿烤肉串</td>\n",
       "      <td>霜降吃柿子！甜柿營養豐富，卻不適合空腹吃。與肉類搭配，解油膩又清爽。簡單做法，最適合週末小派對！</td>\n",
       "    </tr>\n",
       "    <tr>\n",
       "      <th>4</th>\n",
       "      <td>337797</td>\n",
       "      <td>韓式烤肉飯</td>\n",
       "      <td>百吃不膩的韓式烤肉飯，保證讓人胃口大開！無論配麵、配飯都很搭。 作法超級簡單！適合料理初學者...</td>\n",
       "    </tr>\n",
       "  </tbody>\n",
       "</table>\n",
       "</div>"
      ],
      "text/plain": [
       "   RecipeID RecipeName                                        Description\n",
       "0    170303     綜合雞肉串燒  用平底鍋或烤箱就能完成的雞肉串燒，其中照燒烤肉醬只要幾種材料組合，不必擔心市售烤肉醬有過多添...\n",
       "1    169048  燒烤味增秋葵透抽捲  秋葵正當季，適逢中秋節（烤肉節）腳步漸漸接近，來道『烤味增秋葵透抽』吧！\\n簡單備料，有彈性...\n",
       "2    155271     沙嗲烤雞肉串  這個充滿東南亞風味的沙嗲烤雞串，用沙嗲醬醃雞肉，然後放入烤箱烤，這可令雞肉更嫰滑多汁。再加上...\n",
       "3     90086      甜柿烤肉串   霜降吃柿子！甜柿營養豐富，卻不適合空腹吃。與肉類搭配，解油膩又清爽。簡單做法，最適合週末小派對！\n",
       "4    337797      韓式烤肉飯  百吃不膩的韓式烤肉飯，保證讓人胃口大開！無論配麵、配飯都很搭。 作法超級簡單！適合料理初學者..."
      ]
     },
     "execution_count": 6,
     "metadata": {},
     "output_type": "execute_result"
    }
   ],
   "source": [
    "# 將非空值的塞選出來做分析\n",
    "df_TFIDF.head()"
   ]
  },
  {
   "cell_type": "code",
   "execution_count": 7,
   "id": "cbacaaf7",
   "metadata": {},
   "outputs": [
    {
     "data": {
      "text/html": [
       "<div>\n",
       "<style scoped>\n",
       "    .dataframe tbody tr th:only-of-type {\n",
       "        vertical-align: middle;\n",
       "    }\n",
       "\n",
       "    .dataframe tbody tr th {\n",
       "        vertical-align: top;\n",
       "    }\n",
       "\n",
       "    .dataframe thead th {\n",
       "        text-align: right;\n",
       "    }\n",
       "</style>\n",
       "<table border=\"1\" class=\"dataframe\">\n",
       "  <thead>\n",
       "    <tr style=\"text-align: right;\">\n",
       "      <th></th>\n",
       "      <th>RecipeID</th>\n",
       "      <th>RecipeName</th>\n",
       "      <th>Description</th>\n",
       "    </tr>\n",
       "  </thead>\n",
       "  <tbody>\n",
       "    <tr>\n",
       "      <th>0</th>\n",
       "      <td>170303.0</td>\n",
       "      <td>綜合雞肉串燒</td>\n",
       "      <td>用平底鍋或烤箱就能完成的雞肉串燒其中照燒烤肉醬只要幾種材料組合不必擔心市售烤肉醬有過多添加物...</td>\n",
       "    </tr>\n",
       "    <tr>\n",
       "      <th>1</th>\n",
       "      <td>169048.0</td>\n",
       "      <td>燒烤味增秋葵透抽捲</td>\n",
       "      <td>秋葵正當季適逢中秋節烤肉節腳步漸漸接近來道烤味增秋葵透抽吧簡單備料有彈性的透抽配上脆脆的秋葵...</td>\n",
       "    </tr>\n",
       "    <tr>\n",
       "      <th>2</th>\n",
       "      <td>155271.0</td>\n",
       "      <td>沙嗲烤雞肉串</td>\n",
       "      <td>這個充滿東南亞風味的沙嗲烤雞串用沙嗲醬醃雞肉然後放入烤箱烤這可令雞肉更嫰滑多汁再加上自己調的...</td>\n",
       "    </tr>\n",
       "    <tr>\n",
       "      <th>3</th>\n",
       "      <td>90086.0</td>\n",
       "      <td>甜柿烤肉串</td>\n",
       "      <td>霜降吃柿子甜柿營養豐富卻不適合空腹吃與肉類搭配解油膩又清爽簡單做法最適合週末小派對</td>\n",
       "    </tr>\n",
       "    <tr>\n",
       "      <th>4</th>\n",
       "      <td>337797.0</td>\n",
       "      <td>韓式烤肉飯</td>\n",
       "      <td>百吃不膩的韓式烤肉飯保證讓人胃口大開無論配麵配飯都很搭作法超級簡單適合料理初學者或者想快速上...</td>\n",
       "    </tr>\n",
       "  </tbody>\n",
       "</table>\n",
       "</div>"
      ],
      "text/plain": [
       "   RecipeID RecipeName                                        Description\n",
       "0  170303.0     綜合雞肉串燒  用平底鍋或烤箱就能完成的雞肉串燒其中照燒烤肉醬只要幾種材料組合不必擔心市售烤肉醬有過多添加物...\n",
       "1  169048.0  燒烤味增秋葵透抽捲  秋葵正當季適逢中秋節烤肉節腳步漸漸接近來道烤味增秋葵透抽吧簡單備料有彈性的透抽配上脆脆的秋葵...\n",
       "2  155271.0     沙嗲烤雞肉串  這個充滿東南亞風味的沙嗲烤雞串用沙嗲醬醃雞肉然後放入烤箱烤這可令雞肉更嫰滑多汁再加上自己調的...\n",
       "3   90086.0      甜柿烤肉串          霜降吃柿子甜柿營養豐富卻不適合空腹吃與肉類搭配解油膩又清爽簡單做法最適合週末小派對\n",
       "4  337797.0      韓式烤肉飯  百吃不膩的韓式烤肉飯保證讓人胃口大開無論配麵配飯都很搭作法超級簡單適合料理初學者或者想快速上..."
      ]
     },
     "execution_count": 7,
     "metadata": {},
     "output_type": "execute_result"
    }
   ],
   "source": [
    "for n, Description in enumerate(df_TFIDF['Description']):\n",
    "    Description = re.sub(r'[\\W+]|[a-zA-Z0-9]', '', Description) # 特殊符號、英文、數字 刪除\n",
    "    df_TFIDF.loc[n, 'Description'] = Description\n",
    "df_TFIDF.head()"
   ]
  },
  {
   "cell_type": "code",
   "execution_count": 8,
   "id": "0127d979",
   "metadata": {},
   "outputs": [],
   "source": [
    "# 匯入自定義字典\n",
    "jieba.set_dictionary('jieba_data/dict.txt')"
   ]
  },
  {
   "cell_type": "code",
   "execution_count": 9,
   "id": "0fd0fa88",
   "metadata": {},
   "outputs": [
    {
     "data": {
      "text/plain": [
       "['啊', '阿', '哎', '哎呀', '哎喲', '唉', '俺', '有點', '一直', '俺們']"
      ]
     },
     "execution_count": 9,
     "metadata": {},
     "output_type": "execute_result"
    }
   ],
   "source": [
    "# 匯入停用字典\n",
    "with open('./jieba_data/chinese_sw.txt', 'r', encoding='utf-8') as f:\n",
    "    stop_words_list = f.read().split('\\n')\n",
    "stop_words_list[:10]"
   ]
  },
  {
   "cell_type": "code",
   "execution_count": 10,
   "id": "a55a27e9",
   "metadata": {},
   "outputs": [
    {
     "name": "stderr",
     "output_type": "stream",
     "text": [
      "Building prefix dict from C:\\Users\\CEB10201\\PycharmProjects\\Python_Recipe_ETL\\jieba_data\\dict.txt ...\n",
      "Loading model from cache C:\\Users\\CEB10201\\AppData\\Local\\Temp\\jieba.u8d2bce68ea74a61e4827369d82e5dd51.cache\n",
      "Loading model cost 0.486 seconds.\n",
      "Prefix dict has been built successfully.\n"
     ]
    }
   ],
   "source": [
    "Description_TFIDF = []\n",
    "for Description in df_TFIDF['Description']:\n",
    "    Description_Cut = jieba.lcut(Description)\n",
    "    Filter_Description = []\n",
    "    \n",
    "    # 將 Description內的每個斷詞用停用字典來過濾\n",
    "    for Each_word in Description_Cut:\n",
    "        if Each_word not in stop_words_list:\n",
    "            Filter_Description.append(Each_word)\n",
    "    Filter_Description = ' '.join(Filter_Description) # 將過濾好的 Filter_Description每個詞用空白隔開\n",
    "#     print(Filter_Description)\n",
    "    Description_TFIDF.append(Filter_Description) # 將每篇食譜的 Description 放在一個 List 準備做 tfidf\n",
    "#     print(Filter_Description)\n",
    "#     print('-----------')"
   ]
  },
  {
   "cell_type": "code",
   "execution_count": 11,
   "id": "12fc93ff",
   "metadata": {},
   "outputs": [
    {
     "data": {
      "text/plain": [
       "['平底鍋 烤箱 完成 雞肉 串燒 照燒 烤肉醬 幾種 材料 組合 擔心 市售 烤肉醬 過多 添加物 作法 輕輕鬆鬆 做出 居酒屋 料理 喔',\n",
       " '秋葵 正當 季 適逢 中秋節 烤肉 節 腳步 漸漸 接近 來道 烤味增 秋葵 透抽 備料 彈性 透抽 配上 脆脆 秋葵 清爽 味增 燒烤 醬 腸胃 健康',\n",
       " '充滿 東南亞 風味 沙嗲 烤雞 串用 沙嗲 醬 醃 雞肉 放入 烤箱 烤 這可令 雞肉 嫰 滑 多汁 再 調 沙嗲 沾醬 超惹味 一串 接一串 下午茶 點或 派對 小吃 選擇 大受 歡迎 到 專頁 更多 食譜 英國 生活 分享',\n",
       " '霜降 吃 柿子 甜柿 營養 豐富 卻 適合 空腹 吃 肉類 搭配 解 油膩 清爽 做法 適合 週末 小 派對',\n",
       " '百吃 不膩 韓式烤肉 飯 保證 人 胃口 大開 配 麵 配飯 搭 作法 超級 適合 料理 學者 想 快速 上菜 吃 貨們']"
      ]
     },
     "execution_count": 11,
     "metadata": {},
     "output_type": "execute_result"
    }
   ],
   "source": [
    "#test\n",
    "Description_TFIDF[:5]"
   ]
  },
  {
   "cell_type": "code",
   "execution_count": 12,
   "id": "55f2af39",
   "metadata": {},
   "outputs": [
    {
     "data": {
      "text/plain": [
       "26179"
      ]
     },
     "execution_count": 12,
     "metadata": {},
     "output_type": "execute_result"
    }
   ],
   "source": [
    "len(Description_TFIDF)"
   ]
  },
  {
   "cell_type": "code",
   "execution_count": 13,
   "id": "ec21d39f",
   "metadata": {},
   "outputs": [],
   "source": [
    "# 使用 sklearn內的 TfidfVectorizer模型找出每個詞在每篇食譜 Description內的 tdidf\n",
    "from sklearn.feature_extraction.text import TfidfVectorizer\n",
    "\n",
    "vectorizer = TfidfVectorizer()\n",
    "tfidf_model= vectorizer.fit_transform(Description_TFIDF)"
   ]
  },
  {
   "cell_type": "code",
   "execution_count": 14,
   "id": "40cbf438",
   "metadata": {},
   "outputs": [
    {
     "data": {
      "text/plain": [
       "<26179x35693 sparse matrix of type '<class 'numpy.float64'>'\n",
       "\twith 405200 stored elements in Compressed Sparse Row format>"
      ]
     },
     "execution_count": 14,
     "metadata": {},
     "output_type": "execute_result"
    }
   ],
   "source": [
    "tfidf_model # 26179筆資料x35697不重覆的字的tfidf"
   ]
  },
  {
   "cell_type": "code",
   "execution_count": 15,
   "id": "a70fe00e",
   "metadata": {},
   "outputs": [
    {
     "data": {
      "text/plain": [
       "array([[0., 0., 0., ..., 0., 0., 0.],\n",
       "       [0., 0., 0., ..., 0., 0., 0.],\n",
       "       [0., 0., 0., ..., 0., 0., 0.],\n",
       "       ...,\n",
       "       [0., 0., 0., ..., 0., 0., 0.],\n",
       "       [0., 0., 0., ..., 0., 0., 0.],\n",
       "       [0., 0., 0., ..., 0., 0., 0.]])"
      ]
     },
     "execution_count": 15,
     "metadata": {},
     "output_type": "execute_result"
    }
   ],
   "source": [
    "# 矩陣內的每個 list代表每篇食譜所出現的每字的 tfidf\n",
    "tfidf_model.toarray()"
   ]
  },
  {
   "cell_type": "code",
   "execution_count": 16,
   "id": "a2f16eaf",
   "metadata": {},
   "outputs": [
    {
     "data": {
      "text/plain": [
       "['__', '___', '____', '_____', '_______']"
      ]
     },
     "execution_count": 16,
     "metadata": {},
     "output_type": "execute_result"
    }
   ],
   "source": [
    "# test 找出用模型跑出的所有食譜會出現的特徵(出現不同的字)\n",
    "vectorizer.get_feature_names()[:5]"
   ]
  },
  {
   "cell_type": "code",
   "execution_count": 17,
   "id": "dc7f14eb",
   "metadata": {},
   "outputs": [],
   "source": [
    "# 再次清洗將模型跑出的部分特徵加入stop wrod\n",
    "#使用正規表達式將想要加入的特徵篩選出來\n",
    "\n",
    "#'一'開頭的特徵\n",
    "# stopwordadd = re.compile(r'^一.*')\n",
    "# for x in vectorizer.get_feature_names():\n",
    "#     if stopwordadd.findall(x) != []:\n",
    "#         with open('./jieba_data/stop_words_add.txt', 'a', encoding='utf-8') as f:\n",
    "#             f.write('\\n')\n",
    "#             f.write(x)            "
   ]
  },
  {
   "cell_type": "code",
   "execution_count": 18,
   "id": "12d54cb4",
   "metadata": {},
   "outputs": [
    {
     "data": {
      "text/plain": [
       "[[('烤肉醬', 0.5290745826238659),\n",
       "  ('串燒', 0.2815267993439184),\n",
       "  ('幾種', 0.2632328527909649)],\n",
       " [('秋葵', 0.5168516480350709),\n",
       "  ('透抽', 0.4051248538412719),\n",
       "  ('烤味增', 0.2579841376057032)],\n",
       " [('沙嗲', 0.5932817630288907),\n",
       "  ('這可令', 0.23364304909948497),\n",
       "  ('接一串', 0.2246031936395523)],\n",
       " [('空腹', 0.4084285135927628),\n",
       "  ('甜柿', 0.39262605448762755),\n",
       "  ('霜降', 0.3596037560928037)],\n",
       " [('貨們', 0.4097896250009421),\n",
       "  ('韓式烤肉', 0.3608151591730732),\n",
       "  ('百吃', 0.32693459373808964)],\n",
       " [('好吃', 1.0), ('__', 0.0), ('___', 0.0)],\n",
       " [('雷同', 0.48199400026098876),\n",
       "  ('某家', 0.45443229318951356),\n",
       "  ('居酒屋', 0.3765933343336249)],\n",
       " [('沙爹', 0.7199047269005894),\n",
       "  ('印尼', 0.37225008823527167),\n",
       "  ('峇里島', 0.22409614323864818)],\n",
       " [('茭白筍', 0.6812901972183018),\n",
       "  ('烤分', 0.37948975990015754),\n",
       "  ('烤過', 0.3121367217713536)],\n",
       " [('升火', 0.42383415075125974),\n",
       "  ('滿身', 0.3451343080313103),\n",
       "  ('不失', 0.29615331372394554)]]"
      ]
     },
     "execution_count": 18,
     "metadata": {},
     "output_type": "execute_result"
    }
   ],
   "source": [
    "# 將每篇食譜出現的字的 tfidf按權重高→低排序，並取前三個\n",
    "TotalRecipeTFIDF = []\n",
    "for RecipeTFIDF in tfidf_model.toarray():\n",
    "    tmplist = []\n",
    "    \n",
    "    # 將 model 內的array 做轉換 ex. [[(word1,tdidf1),(word2,tdidf2)...],[(word1,tdidf1),(word2,tdidf2)...]...]\n",
    "    for n, word in enumerate(vectorizer.get_feature_names()):\n",
    "        WordTFIDF = (word, RecipeTFIDF[n])\n",
    "        tmplist.append(WordTFIDF)\n",
    "   \n",
    "    tmplist = sorted(tmplist, key=lambda tmplist : tmplist[1], reverse=True)[:3]  # 轉換後 list 內每個 touple 取 tfidf 前三高的值\n",
    "    TotalRecipeTFIDF.append(tmplist)\n",
    "    \n",
    "TotalRecipeTFIDF[:10]"
   ]
  },
  {
   "cell_type": "code",
   "execution_count": 19,
   "id": "f101f4fe",
   "metadata": {},
   "outputs": [
    {
     "data": {
      "text/html": [
       "<div>\n",
       "<style scoped>\n",
       "    .dataframe tbody tr th:only-of-type {\n",
       "        vertical-align: middle;\n",
       "    }\n",
       "\n",
       "    .dataframe tbody tr th {\n",
       "        vertical-align: top;\n",
       "    }\n",
       "\n",
       "    .dataframe thead th {\n",
       "        text-align: right;\n",
       "    }\n",
       "</style>\n",
       "<table border=\"1\" class=\"dataframe\">\n",
       "  <thead>\n",
       "    <tr style=\"text-align: right;\">\n",
       "      <th></th>\n",
       "      <th>RecipeID</th>\n",
       "      <th>RecipeName</th>\n",
       "      <th>Description</th>\n",
       "      <th>WordTFIDF</th>\n",
       "    </tr>\n",
       "  </thead>\n",
       "  <tbody>\n",
       "    <tr>\n",
       "      <th>0</th>\n",
       "      <td>170303.0</td>\n",
       "      <td>綜合雞肉串燒</td>\n",
       "      <td>用平底鍋或烤箱就能完成的雞肉串燒其中照燒烤肉醬只要幾種材料組合不必擔心市售烤肉醬有過多添加物...</td>\n",
       "      <td>0</td>\n",
       "    </tr>\n",
       "    <tr>\n",
       "      <th>1</th>\n",
       "      <td>169048.0</td>\n",
       "      <td>燒烤味增秋葵透抽捲</td>\n",
       "      <td>秋葵正當季適逢中秋節烤肉節腳步漸漸接近來道烤味增秋葵透抽吧簡單備料有彈性的透抽配上脆脆的秋葵...</td>\n",
       "      <td>0</td>\n",
       "    </tr>\n",
       "    <tr>\n",
       "      <th>2</th>\n",
       "      <td>155271.0</td>\n",
       "      <td>沙嗲烤雞肉串</td>\n",
       "      <td>這個充滿東南亞風味的沙嗲烤雞串用沙嗲醬醃雞肉然後放入烤箱烤這可令雞肉更嫰滑多汁再加上自己調的...</td>\n",
       "      <td>0</td>\n",
       "    </tr>\n",
       "    <tr>\n",
       "      <th>3</th>\n",
       "      <td>90086.0</td>\n",
       "      <td>甜柿烤肉串</td>\n",
       "      <td>霜降吃柿子甜柿營養豐富卻不適合空腹吃與肉類搭配解油膩又清爽簡單做法最適合週末小派對</td>\n",
       "      <td>0</td>\n",
       "    </tr>\n",
       "    <tr>\n",
       "      <th>4</th>\n",
       "      <td>337797.0</td>\n",
       "      <td>韓式烤肉飯</td>\n",
       "      <td>百吃不膩的韓式烤肉飯保證讓人胃口大開無論配麵配飯都很搭作法超級簡單適合料理初學者或者想快速上...</td>\n",
       "      <td>0</td>\n",
       "    </tr>\n",
       "  </tbody>\n",
       "</table>\n",
       "</div>"
      ],
      "text/plain": [
       "   RecipeID RecipeName                                        Description  \\\n",
       "0  170303.0     綜合雞肉串燒  用平底鍋或烤箱就能完成的雞肉串燒其中照燒烤肉醬只要幾種材料組合不必擔心市售烤肉醬有過多添加物...   \n",
       "1  169048.0  燒烤味增秋葵透抽捲  秋葵正當季適逢中秋節烤肉節腳步漸漸接近來道烤味增秋葵透抽吧簡單備料有彈性的透抽配上脆脆的秋葵...   \n",
       "2  155271.0     沙嗲烤雞肉串  這個充滿東南亞風味的沙嗲烤雞串用沙嗲醬醃雞肉然後放入烤箱烤這可令雞肉更嫰滑多汁再加上自己調的...   \n",
       "3   90086.0      甜柿烤肉串          霜降吃柿子甜柿營養豐富卻不適合空腹吃與肉類搭配解油膩又清爽簡單做法最適合週末小派對   \n",
       "4  337797.0      韓式烤肉飯  百吃不膩的韓式烤肉飯保證讓人胃口大開無論配麵配飯都很搭作法超級簡單適合料理初學者或者想快速上...   \n",
       "\n",
       "   WordTFIDF  \n",
       "0          0  \n",
       "1          0  \n",
       "2          0  \n",
       "3          0  \n",
       "4          0  "
      ]
     },
     "execution_count": 19,
     "metadata": {},
     "output_type": "execute_result"
    }
   ],
   "source": [
    "df_TFIDF['WordTFIDF'] = 0\n",
    "df_TFIDF.head()    "
   ]
  },
  {
   "cell_type": "code",
   "execution_count": 20,
   "id": "2d5b33e6",
   "metadata": {},
   "outputs": [
    {
     "data": {
      "text/html": [
       "<div>\n",
       "<style scoped>\n",
       "    .dataframe tbody tr th:only-of-type {\n",
       "        vertical-align: middle;\n",
       "    }\n",
       "\n",
       "    .dataframe tbody tr th {\n",
       "        vertical-align: top;\n",
       "    }\n",
       "\n",
       "    .dataframe thead th {\n",
       "        text-align: right;\n",
       "    }\n",
       "</style>\n",
       "<table border=\"1\" class=\"dataframe\">\n",
       "  <thead>\n",
       "    <tr style=\"text-align: right;\">\n",
       "      <th></th>\n",
       "      <th>RecipeID</th>\n",
       "      <th>RecipeName</th>\n",
       "      <th>Description</th>\n",
       "      <th>WordTFIDF</th>\n",
       "    </tr>\n",
       "  </thead>\n",
       "  <tbody>\n",
       "    <tr>\n",
       "      <th>0</th>\n",
       "      <td>170303.0</td>\n",
       "      <td>綜合雞肉串燒</td>\n",
       "      <td>用平底鍋或烤箱就能完成的雞肉串燒其中照燒烤肉醬只要幾種材料組合不必擔心市售烤肉醬有過多添加物...</td>\n",
       "      <td>['烤肉醬', '串燒', '幾種']</td>\n",
       "    </tr>\n",
       "    <tr>\n",
       "      <th>1</th>\n",
       "      <td>169048.0</td>\n",
       "      <td>燒烤味增秋葵透抽捲</td>\n",
       "      <td>秋葵正當季適逢中秋節烤肉節腳步漸漸接近來道烤味增秋葵透抽吧簡單備料有彈性的透抽配上脆脆的秋葵...</td>\n",
       "      <td>['秋葵', '透抽', '烤味增']</td>\n",
       "    </tr>\n",
       "    <tr>\n",
       "      <th>2</th>\n",
       "      <td>155271.0</td>\n",
       "      <td>沙嗲烤雞肉串</td>\n",
       "      <td>這個充滿東南亞風味的沙嗲烤雞串用沙嗲醬醃雞肉然後放入烤箱烤這可令雞肉更嫰滑多汁再加上自己調的...</td>\n",
       "      <td>['沙嗲', '這可令', '接一串']</td>\n",
       "    </tr>\n",
       "    <tr>\n",
       "      <th>3</th>\n",
       "      <td>90086.0</td>\n",
       "      <td>甜柿烤肉串</td>\n",
       "      <td>霜降吃柿子甜柿營養豐富卻不適合空腹吃與肉類搭配解油膩又清爽簡單做法最適合週末小派對</td>\n",
       "      <td>['空腹', '甜柿', '霜降']</td>\n",
       "    </tr>\n",
       "    <tr>\n",
       "      <th>4</th>\n",
       "      <td>337797.0</td>\n",
       "      <td>韓式烤肉飯</td>\n",
       "      <td>百吃不膩的韓式烤肉飯保證讓人胃口大開無論配麵配飯都很搭作法超級簡單適合料理初學者或者想快速上...</td>\n",
       "      <td>['貨們', '韓式烤肉', '百吃']</td>\n",
       "    </tr>\n",
       "  </tbody>\n",
       "</table>\n",
       "</div>"
      ],
      "text/plain": [
       "   RecipeID RecipeName                                        Description  \\\n",
       "0  170303.0     綜合雞肉串燒  用平底鍋或烤箱就能完成的雞肉串燒其中照燒烤肉醬只要幾種材料組合不必擔心市售烤肉醬有過多添加物...   \n",
       "1  169048.0  燒烤味增秋葵透抽捲  秋葵正當季適逢中秋節烤肉節腳步漸漸接近來道烤味增秋葵透抽吧簡單備料有彈性的透抽配上脆脆的秋葵...   \n",
       "2  155271.0     沙嗲烤雞肉串  這個充滿東南亞風味的沙嗲烤雞串用沙嗲醬醃雞肉然後放入烤箱烤這可令雞肉更嫰滑多汁再加上自己調的...   \n",
       "3   90086.0      甜柿烤肉串          霜降吃柿子甜柿營養豐富卻不適合空腹吃與肉類搭配解油膩又清爽簡單做法最適合週末小派對   \n",
       "4  337797.0      韓式烤肉飯  百吃不膩的韓式烤肉飯保證讓人胃口大開無論配麵配飯都很搭作法超級簡單適合料理初學者或者想快速上...   \n",
       "\n",
       "              WordTFIDF  \n",
       "0   ['烤肉醬', '串燒', '幾種']  \n",
       "1   ['秋葵', '透抽', '烤味增']  \n",
       "2  ['沙嗲', '這可令', '接一串']  \n",
       "3    ['空腹', '甜柿', '霜降']  \n",
       "4  ['貨們', '韓式烤肉', '百吃']  "
      ]
     },
     "execution_count": 20,
     "metadata": {},
     "output_type": "execute_result"
    }
   ],
   "source": [
    "for n,RecipeTFIDF in enumerate(TotalRecipeTFIDF):\n",
    "    tmplist = []\n",
    "    for x in RecipeTFIDF:\n",
    "        tmplist.append(x[0])\n",
    "#     print(tmplist)\n",
    "#     print('--------------')\n",
    "    df_TFIDF.loc[n,'WordTFIDF'] = str(tmplist)\n",
    "    \n",
    "df_TFIDF.head()"
   ]
  },
  {
   "cell_type": "code",
   "execution_count": 22,
   "id": "72bd77b4",
   "metadata": {},
   "outputs": [],
   "source": [
    "df_TFIDF=df_TFIDF.dropna()"
   ]
  },
  {
   "cell_type": "code",
   "execution_count": 23,
   "id": "535a3db8",
   "metadata": {},
   "outputs": [],
   "source": [
    "df_TFIDF.to_csv('icook_Description_TF-IDF.csv', encoding='utf-8-sig')"
   ]
  }
 ],
 "metadata": {
  "kernelspec": {
   "display_name": "Python 3",
   "language": "python",
   "name": "python3"
  },
  "language_info": {
   "codemirror_mode": {
    "name": "ipython",
    "version": 3
   },
   "file_extension": ".py",
   "mimetype": "text/x-python",
   "name": "python",
   "nbconvert_exporter": "python",
   "pygments_lexer": "ipython3",
   "version": "3.7.4"
  }
 },
 "nbformat": 4,
 "nbformat_minor": 5
}
