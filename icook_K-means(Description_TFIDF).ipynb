{
 "cells": [
  {
   "cell_type": "code",
   "execution_count": 1,
   "id": "3fa9d98f",
   "metadata": {},
   "outputs": [],
   "source": [
    "import pandas as pd"
   ]
  },
  {
   "cell_type": "code",
   "execution_count": 2,
   "id": "1b706320",
   "metadata": {},
   "outputs": [],
   "source": [
    "df = pd.read_csv('./icook_Description_TF-IDF.csv')"
   ]
  },
  {
   "cell_type": "code",
   "execution_count": 3,
   "id": "5ff7f5b8",
   "metadata": {},
   "outputs": [],
   "source": [
    "df_tfidf = df[['RecipeID','WordTFIDF']]"
   ]
  },
  {
   "cell_type": "code",
   "execution_count": 4,
   "id": "885cf616",
   "metadata": {},
   "outputs": [
    {
     "data": {
      "text/html": [
       "<div>\n",
       "<style scoped>\n",
       "    .dataframe tbody tr th:only-of-type {\n",
       "        vertical-align: middle;\n",
       "    }\n",
       "\n",
       "    .dataframe tbody tr th {\n",
       "        vertical-align: top;\n",
       "    }\n",
       "\n",
       "    .dataframe thead th {\n",
       "        text-align: right;\n",
       "    }\n",
       "</style>\n",
       "<table border=\"1\" class=\"dataframe\">\n",
       "  <thead>\n",
       "    <tr style=\"text-align: right;\">\n",
       "      <th></th>\n",
       "      <th>RecipeID</th>\n",
       "      <th>WordTFIDF</th>\n",
       "    </tr>\n",
       "  </thead>\n",
       "  <tbody>\n",
       "    <tr>\n",
       "      <th>0</th>\n",
       "      <td>170303.0</td>\n",
       "      <td>['烤肉醬', '串燒', '幾種']</td>\n",
       "    </tr>\n",
       "    <tr>\n",
       "      <th>1</th>\n",
       "      <td>169048.0</td>\n",
       "      <td>['秋葵', '透抽', '烤味增']</td>\n",
       "    </tr>\n",
       "    <tr>\n",
       "      <th>2</th>\n",
       "      <td>155271.0</td>\n",
       "      <td>['沙嗲', '這可令', '接一串']</td>\n",
       "    </tr>\n",
       "    <tr>\n",
       "      <th>3</th>\n",
       "      <td>90086.0</td>\n",
       "      <td>['空腹', '甜柿', '霜降']</td>\n",
       "    </tr>\n",
       "    <tr>\n",
       "      <th>4</th>\n",
       "      <td>337797.0</td>\n",
       "      <td>['貨們', '韓式烤肉', '百吃']</td>\n",
       "    </tr>\n",
       "  </tbody>\n",
       "</table>\n",
       "</div>"
      ],
      "text/plain": [
       "   RecipeID             WordTFIDF\n",
       "0  170303.0   ['烤肉醬', '串燒', '幾種']\n",
       "1  169048.0   ['秋葵', '透抽', '烤味增']\n",
       "2  155271.0  ['沙嗲', '這可令', '接一串']\n",
       "3   90086.0    ['空腹', '甜柿', '霜降']\n",
       "4  337797.0  ['貨們', '韓式烤肉', '百吃']"
      ]
     },
     "execution_count": 4,
     "metadata": {},
     "output_type": "execute_result"
    }
   ],
   "source": [
    "df_tfidf.head()"
   ]
  },
  {
   "cell_type": "code",
   "execution_count": 5,
   "id": "b0a41c83",
   "metadata": {},
   "outputs": [],
   "source": [
    "# 隨機抽取2000筆來跑模型\n",
    "df_tfidf_sample = df_tfidf.sample(n=2000, random_state=1)"
   ]
  },
  {
   "cell_type": "code",
   "execution_count": 6,
   "id": "a70cb154",
   "metadata": {},
   "outputs": [
    {
     "data": {
      "text/html": [
       "<div>\n",
       "<style scoped>\n",
       "    .dataframe tbody tr th:only-of-type {\n",
       "        vertical-align: middle;\n",
       "    }\n",
       "\n",
       "    .dataframe tbody tr th {\n",
       "        vertical-align: top;\n",
       "    }\n",
       "\n",
       "    .dataframe thead th {\n",
       "        text-align: right;\n",
       "    }\n",
       "</style>\n",
       "<table border=\"1\" class=\"dataframe\">\n",
       "  <thead>\n",
       "    <tr style=\"text-align: right;\">\n",
       "      <th></th>\n",
       "      <th>RecipeID</th>\n",
       "      <th>WordTFIDF</th>\n",
       "    </tr>\n",
       "  </thead>\n",
       "  <tbody>\n",
       "    <tr>\n",
       "      <th>12836</th>\n",
       "      <td>99612.0</td>\n",
       "      <td>['很合', '加在', '醃漬']</td>\n",
       "    </tr>\n",
       "    <tr>\n",
       "      <th>25344</th>\n",
       "      <td>122786.0</td>\n",
       "      <td>['飲食', '地中海', '健康']</td>\n",
       "    </tr>\n",
       "    <tr>\n",
       "      <th>24622</th>\n",
       "      <td>122879.0</td>\n",
       "      <td>['老胡', '生日', '烤雞']</td>\n",
       "    </tr>\n",
       "    <tr>\n",
       "      <th>13383</th>\n",
       "      <td>319615.0</td>\n",
       "      <td>['水等', '變點', '三分鐘']</td>\n",
       "    </tr>\n",
       "    <tr>\n",
       "      <th>3543</th>\n",
       "      <td>336635.0</td>\n",
       "      <td>['小管', '麵線', '最好']</td>\n",
       "    </tr>\n",
       "  </tbody>\n",
       "</table>\n",
       "</div>"
      ],
      "text/plain": [
       "       RecipeID            WordTFIDF\n",
       "12836   99612.0   ['很合', '加在', '醃漬']\n",
       "25344  122786.0  ['飲食', '地中海', '健康']\n",
       "24622  122879.0   ['老胡', '生日', '烤雞']\n",
       "13383  319615.0  ['水等', '變點', '三分鐘']\n",
       "3543   336635.0   ['小管', '麵線', '最好']"
      ]
     },
     "execution_count": 6,
     "metadata": {},
     "output_type": "execute_result"
    }
   ],
   "source": [
    "df_tfidf_sample.head()"
   ]
  },
  {
   "cell_type": "code",
   "execution_count": 8,
   "id": "0444071a",
   "metadata": {},
   "outputs": [
    {
     "data": {
      "text/plain": [
       "['很合 加在 醃漬', '飲食 地中海 健康', '老胡 生日 烤雞', '水等 變點 三分鐘', '小管 麵線 最好']"
      ]
     },
     "execution_count": 8,
     "metadata": {},
     "output_type": "execute_result"
    }
   ],
   "source": [
    "# 將每個食譜的特徵從 list轉成自串 並用空格隔開方便轉成向量\n",
    "tmplist = []\n",
    "for n, x in enumerate(df_tfidf_sample['WordTFIDF']):\n",
    "    WordTFIDF_string = ' '.join(eval(x))\n",
    "    tmplist.append(WordTFIDF_string)\n",
    "tmplist[:5]"
   ]
  },
  {
   "cell_type": "code",
   "execution_count": 9,
   "id": "e62295ce",
   "metadata": {},
   "outputs": [],
   "source": [
    "# 將所有食譜的特徵轉成向量\n",
    "from sklearn.feature_extraction.text import CountVectorizer\n",
    "\n",
    "vectorizer = CountVectorizer()\n",
    "X = vectorizer.fit_transform(tmplist)"
   ]
  },
  {
   "cell_type": "code",
   "execution_count": 10,
   "id": "ba574b80",
   "metadata": {},
   "outputs": [
    {
     "data": {
      "text/plain": [
       "4322"
      ]
     },
     "execution_count": 10,
     "metadata": {},
     "output_type": "execute_result"
    }
   ],
   "source": [
    "# 特徵數量\n",
    "len(vectorizer.get_feature_names())"
   ]
  },
  {
   "cell_type": "code",
   "execution_count": 11,
   "id": "a6c96d59",
   "metadata": {},
   "outputs": [
    {
     "data": {
      "text/plain": [
       "array([[0, 0, 0, ..., 0, 0, 0],\n",
       "       [0, 0, 0, ..., 0, 0, 0],\n",
       "       [0, 0, 0, ..., 0, 0, 0],\n",
       "       ...,\n",
       "       [0, 0, 0, ..., 0, 0, 0],\n",
       "       [0, 0, 0, ..., 0, 0, 0],\n",
       "       [0, 0, 0, ..., 0, 0, 0]], dtype=int64)"
      ]
     },
     "execution_count": 11,
     "metadata": {},
     "output_type": "execute_result"
    }
   ],
   "source": [
    "# 查看feature array\n",
    "X.toarray()"
   ]
  },
  {
   "cell_type": "code",
   "execution_count": 12,
   "id": "f5da2915",
   "metadata": {},
   "outputs": [],
   "source": [
    "# 使用 K-means 將所有食譜的特徵向量分群\n",
    "from sklearn.cluster import KMeans\n",
    "\n",
    "# 決定分群數量\n",
    "distortions = []\n",
    "\n",
    "# 1. 測試從10~100群中找出誤差平方和 (SSE)最低\n",
    "k_range = range(10,101,10)  # 分群從10開始分 每次跳10 最多到100群\n",
    "\n",
    "for i in k_range:\n",
    "    kmeans = KMeans(n_clusters=i).fit(X.toarray())\n",
    "    distortions.append(kmeans.inertia_)"
   ]
  },
  {
   "cell_type": "code",
   "execution_count": 17,
   "id": "d5dfb76d",
   "metadata": {},
   "outputs": [
    {
     "data": {
      "image/png": "[encoded data removed]",
      "text/plain": [
       "<Figure size 432x288 with 1 Axes>"
      ]
     },
     "metadata": {
      "needs_background": "light"
     },
     "output_type": "display_data"
    }
   ],
   "source": [
    "import matplotlib.pyplot as plt\n",
    "%matplotlib inline\n",
    "\n",
    "# 繪製誤差平方和圖\n",
    "plt.title('SSE (elbow method)')\n",
    "plt.plot(k_range, distortions)\n",
    "plt.show()\n",
    "\n",
    "    "
   ]
  },
  {
   "cell_type": "code",
   "execution_count": 115,
   "id": "76b9f185",
   "metadata": {},
   "outputs": [
    {
     "data": {
      "text/plain": [
       "array([0, 0, 0, ..., 0, 0, 0])"
      ]
     },
     "execution_count": 115,
     "metadata": {},
     "output_type": "execute_result"
    }
   ],
   "source": [
    "kmeans.labels_"
   ]
  },
  {
   "cell_type": "code",
   "execution_count": null,
   "id": "3fca5288",
   "metadata": {},
   "outputs": [],
   "source": []
  }
 ],
 "metadata": {
  "kernelspec": {
   "display_name": "Python 3",
   "language": "python",
   "name": "python3"
  },
  "language_info": {
   "codemirror_mode": {
    "name": "ipython",
    "version": 3
   },
   "file_extension": ".py",
   "mimetype": "text/x-python",
   "name": "python",
   "nbconvert_exporter": "python",
   "pygments_lexer": "ipython3",
   "version": "3.7.4"
  }
 },
 "nbformat": 4,
 "nbformat_minor": 5
}
